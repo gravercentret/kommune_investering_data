{
 "cells": [
  {
   "cell_type": "code",
   "execution_count": null,
   "metadata": {},
   "outputs": [],
   "source": [
    "import streamlit as st\n",
    "import pandas as pd\n",
    "import polars as pl\n",
    "import matplotlib.pyplot as plt\n",
    "from sqlalchemy import create_engine\n",
    "from utils.data_prep import get_data"
   ]
  },
  {
   "cell_type": "code",
   "execution_count": null,
   "metadata": {},
   "outputs": [],
   "source": [
    "df = get_data()\n"
   ]
  },
  {
   "cell_type": "code",
   "execution_count": null,
   "metadata": {},
   "outputs": [],
   "source": [
    "\n",
    "# Extract unique values\n",
    "unique_kommuner = df[\"Kommune\"].unique().to_list()\n",
    "\n",
    "# Define the custom categories\n",
    "all_values = \"Hele landet\"\n",
    "municipalities = \"Kommuner\"\n",
    "regions = \"Regioner\"\n",
    "\n",
    "# Filter municipalities and regions\n",
    "kommuner_only = [kommune for kommune in unique_kommuner if not kommune.startswith(\"Region\")]\n",
    "regioner_only = [kommune for kommune in unique_kommuner if kommune.startswith(\"Region\")]\n"
   ]
  },
  {
   "cell_type": "code",
   "execution_count": null,
   "metadata": {},
   "outputs": [],
   "source": [
    "\n",
    "# Add extra options to the dropdown\n",
    "dropdown_options = [all_values, municipalities, regions] + unique_kommuner\n",
    "\n",
    "# Streamlit dropdown\n",
    "user_choice = \"København\" # st.selectbox(\"Vælg område:\", dropdown_options)\n",
    "\n",
    "# Filter dataframe based on the user's selection\n",
    "if user_choice == all_values:\n",
    "    filtered_df = df\n",
    "elif user_choice == municipalities:\n",
    "    filtered_df = df.filter(~df[\"Kommune\"].str.starts_with(\"Region\"))\n",
    "elif user_choice == regions:\n",
    "    filtered_df = df.filter(df[\"Kommune\"].str.starts_with(\"Region\"))\n",
    "else:\n",
    "    filtered_df = df.filter(df[\"Kommune\"] == user_choice)\n",
    "\n",
    "display(filtered_df)"
   ]
  },
  {
   "cell_type": "code",
   "execution_count": null,
   "metadata": {},
   "outputs": [],
   "source": []
  }
 ],
 "metadata": {
  "kernelspec": {
   "display_name": ".venv",
   "language": "python",
   "name": "python3"
  },
  "language_info": {
   "codemirror_mode": {
    "name": "ipython",
    "version": 3
   },
   "file_extension": ".py",
   "mimetype": "text/x-python",
   "name": "python",
   "nbconvert_exporter": "python",
   "pygments_lexer": "ipython3",
   "version": "3.12.5"
  }
 },
 "nbformat": 4,
 "nbformat_minor": 2
}
