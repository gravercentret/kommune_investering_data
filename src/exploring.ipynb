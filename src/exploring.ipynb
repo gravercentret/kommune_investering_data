{
 "cells": [
  {
   "cell_type": "code",
   "execution_count": null,
   "metadata": {},
   "outputs": [],
   "source": [
    "import pandas as pd"
   ]
  },
  {
   "cell_type": "code",
   "execution_count": null,
   "metadata": {},
   "outputs": [],
   "source": [
    "# data_path = \"../data/data_investeringer.xlsx\"\n",
    "data_path = \"../data/investeringer_datagrundlag.xlsx\"\n",
    "df = pd.read_excel(data_path)"
   ]
  },
  {
   "cell_type": "code",
   "execution_count": null,
   "metadata": {},
   "outputs": [],
   "source": [
    "# Filter the rows where \"Kommune\" is missing\n",
    "missing_kommune_rows = df[df['Kommune'].isna()]\n",
    "\n",
    "# Display the rows\n",
    "print(missing_kommune_rows)\n",
    "\n",
    "df = df[df['Kommune'].notna()]"
   ]
  },
  {
   "cell_type": "code",
   "execution_count": null,
   "metadata": {},
   "outputs": [],
   "source": [
    "import numpy as np\n",
    "\n",
    "# Replace '-' with NaN (Fjerner dem, hvor der ikke er værdi. Det er fx to fra Odense)\n",
    "df['Markedsværdi (DKK)'] = df['Markedsværdi (DKK)'].replace('-', np.nan)\n",
    "\n",
    "# Remove any potential commas, spaces, or other non-numeric characters\n",
    "df['Markedsværdi (DKK)'] = df['Markedsværdi (DKK)'].replace({',': '', ' ': ''}, regex=True)\n",
    "\n",
    "# Convert the column to float\n",
    "df['Markedsværdi (DKK)'] = df['Markedsværdi (DKK)'].astype(float)\n"
   ]
  },
  {
   "cell_type": "code",
   "execution_count": null,
   "metadata": {},
   "outputs": [],
   "source": [
    "df.head()"
   ]
  },
  {
   "cell_type": "code",
   "execution_count": null,
   "metadata": {},
   "outputs": [],
   "source": [
    "import pandas as pd\n",
    "\n",
    "# Create the function to fill missing 'Type' based on the majority for each 'ISIN kode'\n",
    "def fill_missing_type(df, min_rows=5, agree_threshold=0.8):\n",
    "    def fill_type_for_group(group):\n",
    "        # Count the missing values in 'Type' for this group\n",
    "        missing_count = group['Type'].isna().sum()\n",
    "        #print(f\"ISIN kode: {group.name}, Missing 'Type' values: {missing_count}\")\n",
    "        \n",
    "        # Get the count of each type in the group, excluding missing values\n",
    "        type_counts = group['Type'].value_counts()\n",
    "        \n",
    "        # If there are no valid types in the group, skip this group\n",
    "        if type_counts.empty:\n",
    "            return group\n",
    "        \n",
    "        total_rows = len(group)\n",
    "        most_common_type, most_common_count = type_counts.idxmax(), type_counts.max()\n",
    "        \n",
    "        # Check the condition: at least min_rows, and agreement should meet the threshold\n",
    "        if total_rows >= min_rows and most_common_count / total_rows >= agree_threshold:\n",
    "            # If conditions met, fill missing 'Type' with the most common type\n",
    "            group['Type'] = group['Type'].fillna(most_common_type)\n",
    "        \n",
    "        return group\n",
    "\n",
    "    # Group by 'ISIN kode' and apply the function to each group\n",
    "    df = df.groupby('ISIN kode').apply(fill_type_for_group)\n",
    "\n",
    "    return df\n",
    "\n",
    "# Print the number of missing values in 'Type' before applying the function\n",
    "missing_before = df['Type'].isna().sum()\n",
    "print(f\"Missing 'Type' values before: {missing_before}\")\n",
    "\n",
    "# Apply the function to fill missing 'Type' values\n",
    "filled_df = fill_missing_type(df, min_rows=5, agree_threshold=0.80)\n",
    "\n",
    "# Print the number of missing values in 'Type' after applying the function\n",
    "missing_after = filled_df['Type'].isna().sum()\n",
    "print(f\"Missing 'Type' values after: {missing_after}\")\n",
    "\n",
    "filled_df.head()\n"
   ]
  },
  {
   "cell_type": "code",
   "execution_count": null,
   "metadata": {},
   "outputs": [],
   "source": [
    "df_lav = df[df['Markedsværdi (DKK)'] < 100]\n",
    "df_lav = df_lav[df_lav['Markedsværdi (DKK)'] >= 0]\n",
    "df_lav"
   ]
  },
  {
   "cell_type": "code",
   "execution_count": null,
   "metadata": {},
   "outputs": [],
   "source": [
    "sum(df_lav['Markedsværdi (DKK)'])"
   ]
  },
  {
   "cell_type": "code",
   "execution_count": null,
   "metadata": {},
   "outputs": [],
   "source": [
    "df.value_counts('Kommune')"
   ]
  },
  {
   "cell_type": "code",
   "execution_count": null,
   "metadata": {},
   "outputs": [],
   "source": [
    "text = df[df['Kommune'] == 'Guldborgsund'].to_string(index=False)"
   ]
  },
  {
   "cell_type": "code",
   "execution_count": null,
   "metadata": {},
   "outputs": [],
   "source": [
    "!pip install tiktoken"
   ]
  },
  {
   "cell_type": "code",
   "execution_count": null,
   "metadata": {},
   "outputs": [],
   "source": [
    "import tiktoken\n",
    "import pandas as pd\n",
    "\n",
    "# Function to convert dataframe to text and count tokens\n",
    "def dataframe_to_text(df):\n",
    "    \"\"\"\n",
    "    This function converts a dataframe into a text format.\n",
    "    You can modify it based on how you want to present the data.\n",
    "    \"\"\"\n",
    "    text = df.to_string(index=False)  # Convert DataFrame to string (or JSON if needed)\n",
    "    return text\n",
    "\n",
    "# Function to count tokens using OpenAI's tokenizer (tiktoken)\n",
    "def count_tokens(text, model=\"gpt-4\"):\n",
    "    \"\"\"\n",
    "    Counts the number of tokens in a given text based on the OpenAI model.\n",
    "    \"\"\"\n",
    "    # Load the encoding for the specified model (gpt-3.5-turbo, gpt-4, etc.)\n",
    "    encoding = tiktoken.encoding_for_model(model)\n",
    "    \n",
    "    # Encode the text into tokens\n",
    "    tokens = encoding.encode(text)\n",
    "    \n",
    "    # Return the number of tokens\n",
    "    return len(tokens)\n",
    "\n",
    "# Convert dataframe to text\n",
    "df_text = dataframe_to_text(df['Markedsværdi (DKK)'][df['Kommune'] == 'Guldborgsund'])\n",
    "\n",
    "# Count tokens\n",
    "num_tokens = count_tokens(df_text, model=\"gpt-4\")\n",
    "\n",
    "# print(f\"DataFrame text:\\n{df_text}\")\n",
    "print(f\"\\nNumber of tokens: {num_tokens}\")"
   ]
  },
  {
   "cell_type": "code",
   "execution_count": null,
   "metadata": {},
   "outputs": [],
   "source": []
  }
 ],
 "metadata": {
  "kernelspec": {
   "display_name": ".venv",
   "language": "python",
   "name": "python3"
  },
  "language_info": {
   "codemirror_mode": {
    "name": "ipython",
    "version": 3
   },
   "file_extension": ".py",
   "mimetype": "text/x-python",
   "name": "python",
   "nbconvert_exporter": "python",
   "pygments_lexer": "ipython3",
   "version": "3.12.5"
  }
 },
 "nbformat": 4,
 "nbformat_minor": 2
}
