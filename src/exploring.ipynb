{
 "cells": [
  {
   "cell_type": "code",
   "execution_count": null,
   "metadata": {},
   "outputs": [],
   "source": [
    "import pandas as pd"
   ]
  },
  {
   "cell_type": "code",
   "execution_count": null,
   "metadata": {},
   "outputs": [],
   "source": [
    "# data_path = \"../data/data_investeringer.xlsx\"\n",
    "data_path = \"../data/investeringer_datagrundlag.xlsx\"\n",
    "df = pd.read_excel(data_path)"
   ]
  },
  {
   "cell_type": "code",
   "execution_count": null,
   "metadata": {},
   "outputs": [],
   "source": [
    "# Filter the rows where \"Kommune\" is missing\n",
    "missing_kommune_rows = df[df['Kommune'].isna()]\n",
    "\n",
    "# Display the rows\n",
    "print(missing_kommune_rows)\n",
    "\n",
    "df = df[df['Kommune'].notna()]"
   ]
  },
  {
   "cell_type": "code",
   "execution_count": null,
   "metadata": {},
   "outputs": [],
   "source": [
    "import numpy as np\n",
    "\n",
    "# Replace '-' with NaN (Fjerner dem, hvor der ikke er værdi. Det er fx to fra Odense)\n",
    "df['Markedsværdi (DKK)'] = df['Markedsværdi (DKK)'].replace('-', np.nan)\n",
    "\n",
    "# Remove any potential commas, spaces, or other non-numeric characters\n",
    "df['Markedsværdi (DKK)'] = df['Markedsværdi (DKK)'].replace({',': '', ' ': ''}, regex=True)\n",
    "\n",
    "# Convert the column to float\n",
    "df['Markedsværdi (DKK)'] = df['Markedsværdi (DKK)'].astype(float)\n"
   ]
  },
  {
   "cell_type": "code",
   "execution_count": null,
   "metadata": {},
   "outputs": [],
   "source": [
    "df.head()"
   ]
  },
  {
   "cell_type": "code",
   "execution_count": null,
   "metadata": {},
   "outputs": [],
   "source": []
  },
  {
   "cell_type": "code",
   "execution_count": null,
   "metadata": {},
   "outputs": [],
   "source": [
    "df_lav = df[df['Markedsværdi (DKK)'] < 100]\n",
    "df_lav = df_lav[df_lav['Markedsværdi (DKK)'] >= 0]\n",
    "df_lav"
   ]
  },
  {
   "cell_type": "code",
   "execution_count": null,
   "metadata": {},
   "outputs": [],
   "source": [
    "sum(df_lav['Markedsværdi (DKK)'])"
   ]
  }
 ],
 "metadata": {
  "kernelspec": {
   "display_name": ".venv",
   "language": "python",
   "name": "python3"
  },
  "language_info": {
   "codemirror_mode": {
    "name": "ipython",
    "version": 3
   },
   "file_extension": ".py",
   "mimetype": "text/x-python",
   "name": "python",
   "nbconvert_exporter": "python",
   "pygments_lexer": "ipython3",
   "version": "3.12.5"
  }
 },
 "nbformat": 4,
 "nbformat_minor": 2
}
